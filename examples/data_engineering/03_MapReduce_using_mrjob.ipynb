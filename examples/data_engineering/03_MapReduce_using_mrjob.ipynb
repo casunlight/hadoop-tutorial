{
 "cells": [
  {
   "cell_type": "markdown",
   "metadata": {},
   "source": [
    "# MapReduce Using `MRJob`"
   ]
  },
  {
   "cell_type": "markdown",
   "metadata": {},
   "source": [
    "## A Job Posting Dataset\n",
    "\n",
    "The sample dataset we will use (`data/job-data/job-data-2018-09-08-00-00-37.txt`) contains job postings from on one of the US job search websites. The data is stored with each row as a JSON document representing a job posting record. \n",
    "\n",
    "The example below shows a sample job postings from the data file. The sample record has been formatted with 4 spaces indentation. In the real file, each record is stored as a JSON document in one row."
   ]
  },
  {
   "cell_type": "raw",
   "metadata": {},
   "source": [
    "*Example: Format of a job posting record*\n",
    "\n",
    "{\n",
    "    \"industry\": \"Information Technology\", \n",
    "    \"datePosted\": \"2018-09-07\", \n",
    "    \"salaryCurrency\": \"USD\", \n",
    "    \"validThrough\": \"2018-10-07\", \n",
    "    \"empId\": 671932, \n",
    "    \"jobLocation\": {\n",
    "        \"geo\": {\n",
    "            \"latitude\": \"37.7623\", \n",
    "            \"@type\": \"GeoCoordinates\", \n",
    "            \"longitude\": \"-122.4145\"\n",
    "        }, \n",
    "        \"@type\": \"Place\", \n",
    "        \"address\": {\n",
    "            \"postalCode\": \"94110-2042\", \n",
    "            \"addressLocality\": \"San Francisco\", \n",
    "            \"@type\": \"PostalAddress\", \n",
    "            \"addressRegion\": \"CA\", \n",
    "            \"addressCountry\": {\n",
    "                \"@type\": \n",
    "                \"Country\", \n",
    "                \"name\": \"US\"\n",
    "            }\n",
    "        }\n",
    "    }, \n",
    "    \"estimatedSalary\": {\n",
    "        \"@type\": \"MonetaryAmount\", \n",
    "        \"currency\": \"USD\", \n",
    "        \"value\": {\n",
    "            \"maxValue\": \"202000\", \n",
    "            \"@type\": \"QuantitativeValue\", \n",
    "            \"unitText\": \"YEAR\", \n",
    "            \"minValue\": \"146000\"\n",
    "        }\n",
    "    }, \n",
    "    \"description\": \"<div><em>Generate insights and impact from data</em><em>.</em></div>\\n<br/>\\n<div>\\n<div>We're looking for data scientists to join the Analytics team who are excited about applying their analytical skills to understand our users and influence decision making. If you are naturally data curious, excited about deriving insights from data, and motivated by having impact on the business, we want to hear from you.</div><br/>\\n\\n<div><strong>You will:</strong></div><div>\\n\\n\\n<ul>\\n<li>Work closely with product and business teams to identify important questions and answer them with data.</li>\\n</ul>\\n\\n</div><br/>\\n\\n<div>\\n\\n\\n<ul>\\n<li>Apply statistical and econometric models on large datasets to: i) measure results and outcomes, ii) identify causal impact and attribution, iii) predict future performance of users or products.</li>\\n</ul>\\n\\n</div><br/>\\n\\n<div>\\n\\n\\n<ul>\\n<li>Design, analyze, and interpret the results of experiments.</li>\\n</ul>\\n\\n</div><br/>\\n\\n<div>\\n\\n\\n<ul>\\n<li>Drive the collection of new data and the refinement of existing data sources.</li>\\n</ul>\\n\\n</div><br/>\\n\\n<div>\\n\\n\\n<ul>\\n<li>Create analyses that tell a \\\"story\\\" focused on insights, not just data.</li>\\n</ul>\\n\\n</div><br/>\\n\\n<div><strong>We're looking for someone with:</strong></div><div>\\n\\n\\n<ul>\\n<li>3+ years experience working with and analyzing large data sets to solve problems.</li>\\n</ul>\\n\\n</div><br/>\\n\\n<div>\\n\\n\\n<ul>\\n<li>A PhD or MS in a quantitative field (e.g., Economics, Statistics, Eng, Natural Sciences, CS).</li>\\n</ul>\\n\\n</div><br/>\\n\\n<div>\\n\\n\\n<ul>\\n<li>Expert knowledge of a scientific computing language (such as R or Python) and SQL.</li>\\n</ul>\\n\\n</div><br/>\\n\\n<div>\\n\\n\\n<ul>\\n<li>Strong knowledge of statistics and experimental design.</li>\\n</ul>\\n\\n</div><br/>\\n\\n<div>\\n\\n\\n<ul>\\n<li>Ability to communicate results clearly and a focus on driving impact.</li>\\n</ul>\\n\\n</div><br/>\\n\\n<div><strong>Nice to haves:</strong></div><div>\\n\\n\\n<ul>\\n<li>Prior experience with data-distributed tools (Scalding, Hadoop, Pig, etc).</li>\\n</ul>\\n\\n</div><br/>\\n\\n<div><strong>You should include these in your application:</strong></div><div>\\n\\n\\n<ul>\\n<li>Resume and LinkedIn profile.</li>\\n</ul>\\n\\n</div><br/>\\n\\n<div>\\n\\n\\n<ul>\\n<li>Description of the most interesting data analysis you've done, key findings, and its impact.</li>\\n</ul>\\n\\n</div><br/>\\n\\n<div>\\n\\n\\n<ul>\\n<li>Link to or attachment of code you've written related to data analysis.</li>\\n</ul>\\n\\n</div>\\n</div>\\n<br/>\", \n",
    "    \"hiringOrganization\": {\n",
    "        \"@type\": \"Organization\", \n",
    "        \"sameAs\": \"www.stripe.com\", \n",
    "        \"name\": \"Stripe\"\n",
    "    },\n",
    "    \"@type\": \"JobPosting\", \n",
    "    \"jobId\": 2280174543, \n",
    "    \"@context\": \"http://schema.org\", \n",
    "    \"employmentType\": \"FULL_TIME\", \n",
    "    \"occupationalCategory\": [\n",
    "        \"15-1111.00\", \n",
    "        \"Computer and Information Research Scientists\"\n",
    "    ], \n",
    "    \"title\": \"Data Scientist\"\n",
    "}"
   ]
  },
  {
   "cell_type": "markdown",
   "metadata": {},
   "source": [
    "## 1. Protocols For Input & Output"
   ]
  },
  {
   "cell_type": "markdown",
   "metadata": {},
   "source": [
    "mrjob assumes that all data is newline-delimited bytes. Each job has an *input protocol*, an *output protocol*, and an *internal protocol*.\n",
    "\n",
    "The default *input* protocol is `RawValueProtocol`, which just reads in a line as a `str`.\n",
    "The default *output* and *internal* protocols are both `JSONProtocol`, which reads and writes JSON strings separated by a tab character.\n",
    "\n",
    "The protocols can be changed by overwritting the corresponding attributes: `INPUT_PROTOCOL`, `INTERNAL_PROTOCOL`, and `OUTPUT_PROTOCOL`.\n",
    "\n",
    "For more information, see [Protocols](https://pythonhosted.org/mrjob/guides/writing-mrjobs.html#job-protocols)."
   ]
  },
  {
   "cell_type": "markdown",
   "metadata": {},
   "source": [
    "`JSONValueProtocol` encodes value as a JSON and discard key (key is read in as None). To load the job posting dataset, we can set `INPUT_PROTOCOL = JSONValueProtocol` which automaticall loads input data as Python `dict` objects."
   ]
  },
  {
   "cell_type": "markdown",
   "metadata": {},
   "source": [
    "The example below loads the data into `mapper` and generates output of key-value pairs where keys are *jobId*(`int`) and values are *jobLocation*(`json`). Note that no `reducer` is provided, this type of jobs are sometimes called *map only* jobs."
   ]
  },
  {
   "cell_type": "code",
   "execution_count": 3,
   "metadata": {},
   "outputs": [
    {
     "name": "stdout",
     "output_type": "stream",
     "text": [
      "Writing mr-jobs/protocol-map-only.py\n"
     ]
    }
   ],
   "source": [
    "%%file mr-jobs/protocol-map-only.py\n",
    "import json\n",
    "\n",
    "from mrjob.job import MRJob\n",
    "from mrjob.protocol import JSONValueProtocol, RawValueProtocol\n",
    "\n",
    "class MRWordFrequencyCount(MRJob):\n",
    "    \n",
    "    INPUT_PROTOCOL = JSONValueProtocol\n",
    "    \n",
    "    def mapper(self, _, value):\n",
    "        yield value.get('jobId', None), value.get('jobLocation', None)\n",
    "\n",
    "        \n",
    "if __name__ == '__main__':\n",
    "    MRWordFrequencyCount.run()"
   ]
  },
  {
   "cell_type": "code",
   "execution_count": 4,
   "metadata": {},
   "outputs": [
    {
     "name": "stdout",
     "output_type": "stream",
     "text": [
      "No configs found; falling back on auto-configuration\n",
      "No configs specified for inline runner\n",
      "Running step 1 of 1...\n",
      "Creating temp directory /tmp/protocol-map-only.hadoop.20180913.161010.645216\n",
      "job output is in test-out\n",
      "Removing temp directory /tmp/protocol-map-only.hadoop.20180913.161010.645216...\n"
     ]
    }
   ],
   "source": [
    "!python3 mr-jobs/protocol-map-only.py ../data/job-data/job-data-2018-09-08-00-00-37.txt --output-dir test-out"
   ]
  },
  {
   "cell_type": "code",
   "execution_count": null,
   "metadata": {},
   "outputs": [],
   "source": []
  }
 ],
 "metadata": {
  "kernelspec": {
   "display_name": "Python 3",
   "language": "python",
   "name": "python3"
  },
  "language_info": {
   "codemirror_mode": {
    "name": "ipython",
    "version": 3
   },
   "file_extension": ".py",
   "mimetype": "text/x-python",
   "name": "python",
   "nbconvert_exporter": "python",
   "pygments_lexer": "ipython3",
   "version": "3.5.2"
  }
 },
 "nbformat": 4,
 "nbformat_minor": 2
}
