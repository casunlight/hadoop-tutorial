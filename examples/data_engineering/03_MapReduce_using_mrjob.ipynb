{
 "cells": [
  {
   "cell_type": "markdown",
   "metadata": {},
   "source": [
    "# MapReduce Using `MRJob`"
   ]
  },
  {
   "cell_type": "markdown",
   "metadata": {},
   "source": [
    "## Job Posting Dataset\n",
    "\n",
    "The sample dataset we will mainly use (`data/job-data/job-data-2018-09-*.txt`) for this tutorial contains job postings from one of the US job search websites. The data is stored with each row as a JSON document representing a job posting record. \n",
    "\n",
    "The example below shows a sample job postings from the data file. The sample record has been formatted with 4 spaces indentation. In the real file, each record is stored as a JSON document in one row."
   ]
  },
  {
   "cell_type": "markdown",
   "metadata": {},
   "source": [
    "*Example: JSON document of a job posting record*\n",
    "\n",
    "```\n",
    "{\n",
    "    \"industry\": \"Information Technology\", \n",
    "    \"datePosted\": \"2018-09-07\", \n",
    "    \"salaryCurrency\": \"USD\", \n",
    "    \"validThrough\": \"2018-10-07\", \n",
    "    \"empId\": 671932, \n",
    "    \"jobLocation\": {\n",
    "        \"geo\": {\n",
    "            \"latitude\": \"37.7623\", \n",
    "            \"@type\": \"GeoCoordinates\", \n",
    "            \"longitude\": \"-122.4145\"\n",
    "        }, \n",
    "        \"@type\": \"Place\", \n",
    "        \"address\": {\n",
    "            \"postalCode\": \"94110-2042\", \n",
    "            \"addressLocality\": \"San Francisco\", \n",
    "            \"@type\": \"PostalAddress\", \n",
    "            \"addressRegion\": \"CA\", \n",
    "            \"addressCountry\": {\n",
    "                \"@type\": \n",
    "                \"Country\", \n",
    "                \"name\": \"US\"\n",
    "            }\n",
    "        }\n",
    "    }, \n",
    "    \"estimatedSalary\": {\n",
    "        \"@type\": \"MonetaryAmount\", \n",
    "        \"currency\": \"USD\", \n",
    "        \"value\": {\n",
    "            \"maxValue\": \"202000\", \n",
    "            \"@type\": \"QuantitativeValue\", \n",
    "            \"unitText\": \"YEAR\", \n",
    "            \"minValue\": \"146000\"\n",
    "        }\n",
    "    }, \n",
    "    \"description\": \"<div><em>Generate insights and impact from data</em><em>.</em></div>\\n<br/>\\n<div>\\n<div>We're looking for data scientists to join the Analytics team who are excited about applying their analytical skills to understand our users and influence decision making. If you are naturally data curious, excited about deriving insights from data, and motivated by having impact on the business, we want to hear from you.</div><br/>\\n\\n<div><strong>You will:</strong></div><div>\\n\\n\\n<ul>\\n<li>Work closely with product and business teams to identify important questions and answer them with data.</li>\\n</ul>\\n\\n</div><br/>\\n\\n<div>\\n\\n\\n<ul>\\n<li>Apply statistical and econometric models on large datasets to: i) measure results and outcomes, ii) identify causal impact and attribution, iii) predict future performance of users or products.</li>\\n</ul>\\n\\n</div><br/>\\n\\n<div>\\n\\n\\n<ul>\\n<li>Design, analyze, and interpret the results of experiments.</li>\\n</ul>\\n\\n</div><br/>\\n\\n<div>\\n\\n\\n<ul>\\n<li>Drive the collection of new data and the refinement of existing data sources.</li>\\n</ul>\\n\\n</div><br/>\\n\\n<div>\\n\\n\\n<ul>\\n<li>Create analyses that tell a \\\"story\\\" focused on insights, not just data.</li>\\n</ul>\\n\\n</div><br/>\\n\\n<div><strong>We're looking for someone with:</strong></div><div>\\n\\n\\n<ul>\\n<li>3+ years experience working with and analyzing large data sets to solve problems.</li>\\n</ul>\\n\\n</div><br/>\\n\\n<div>\\n\\n\\n<ul>\\n<li>A PhD or MS in a quantitative field (e.g., Economics, Statistics, Eng, Natural Sciences, CS).</li>\\n</ul>\\n\\n</div><br/>\\n\\n<div>\\n\\n\\n<ul>\\n<li>Expert knowledge of a scientific computing language (such as R or Python) and SQL.</li>\\n</ul>\\n\\n</div><br/>\\n\\n<div>\\n\\n\\n<ul>\\n<li>Strong knowledge of statistics and experimental design.</li>\\n</ul>\\n\\n</div><br/>\\n\\n<div>\\n\\n\\n<ul>\\n<li>Ability to communicate results clearly and a focus on driving impact.</li>\\n</ul>\\n\\n</div><br/>\\n\\n<div><strong>Nice to haves:</strong></div><div>\\n\\n\\n<ul>\\n<li>Prior experience with data-distributed tools (Scalding, Hadoop, Pig, etc).</li>\\n</ul>\\n\\n</div><br/>\\n\\n<div><strong>You should include these in your application:</strong></div><div>\\n\\n\\n<ul>\\n<li>Resume and LinkedIn profile.</li>\\n</ul>\\n\\n</div><br/>\\n\\n<div>\\n\\n\\n<ul>\\n<li>Description of the most interesting data analysis you've done, key findings, and its impact.</li>\\n</ul>\\n\\n</div><br/>\\n\\n<div>\\n\\n\\n<ul>\\n<li>Link to or attachment of code you've written related to data analysis.</li>\\n</ul>\\n\\n</div>\\n</div>\\n<br/>\", \n",
    "    \"hiringOrganization\": {\n",
    "        \"@type\": \"Organization\", \n",
    "        \"sameAs\": \"www.stripe.com\", \n",
    "        \"name\": \"Stripe\"\n",
    "    },\n",
    "    \"@type\": \"JobPosting\", \n",
    "    \"jobId\": 2280174543, \n",
    "    \"@context\": \"http://schema.org\", \n",
    "    \"employmentType\": \"FULL_TIME\", \n",
    "    \"occupationalCategory\": [\n",
    "        \"15-1111.00\", \n",
    "        \"Computer and Information Research Scientists\"\n",
    "    ], \n",
    "    \"title\": \"Data Scientist\"\n",
    "}\n",
    "```"
   ]
  },
  {
   "cell_type": "markdown",
   "metadata": {},
   "source": [
    "Copy input data to HDFS:"
   ]
  },
  {
   "cell_type": "code",
   "execution_count": 1,
   "metadata": {},
   "outputs": [],
   "source": [
    "!hdfs dfs -mkdir job-data/"
   ]
  },
  {
   "cell_type": "code",
   "execution_count": 2,
   "metadata": {},
   "outputs": [],
   "source": [
    "!hdfs dfs -put ../data/job-data/* job-data/"
   ]
  },
  {
   "cell_type": "markdown",
   "metadata": {},
   "source": [
    "## 1. Protocols For Input & Output"
   ]
  },
  {
   "cell_type": "markdown",
   "metadata": {},
   "source": [
    "`mrjob` assumes that all data is newline-delimited bytes. Each job has an *input protocol*, an *output protocol*, and an *internal protocol*. These protocols can be changed by overwritting the attributes: `INPUT_PROTOCOL`, `INTERNAL_PROTOCOL`, and `OUTPUT_PROTOCOL`, respectively.\n",
    "\n",
    "The default *input* protocol is `RawValueProtocol`, which just reads in a line as a `str`.\n",
    "The default *output* and *internal* protocols are both `JSONProtocol`, which reads and writes JSON strings separated by a tab character.\n",
    "\n",
    "`JSONValueProtocol` encodes value as a JSON and discard key (key is read in as None). To load the job posting dataset, we can set `INPUT_PROTOCOL = JSONValueProtocol` which automaticall loads input data as Python `dict` objects.\n",
    "\n",
    "For more information, see [Protocols](https://pythonhosted.org/mrjob/guides/writing-mrjobs.html#job-protocols)."
   ]
  },
  {
   "cell_type": "markdown",
   "metadata": {},
   "source": [
    "**Example**: Simple JSON Parser\n",
    "\n",
    "The script below loads the data into `MRTest.mapper` and generates output of key-value pairs where keys are `jobId:int` and values are `jobLocation:dict`, which will then be written into output files as JSON documents. Note that no `MRTest.reducer` is provided, this type of jobs are sometimes called *map-only* jobs.\n",
    "\n",
    "- *Data flow*:\n",
    "\n",
    "  Input:`record` $\\rightarrow$ mapper:`<_, record> -> <jobId, jobLocation>` $\\rightarrow$ Output:`jobId jobLocation`\n",
    "  \n",
    "- *Features and highlights*:\n",
    "  \n",
    "  `INPUT_PROTOCOL = JSONValueProtocol` allows MRJob to parse JSON documents as python dict"
   ]
  },
  {
   "cell_type": "code",
   "execution_count": 3,
   "metadata": {},
   "outputs": [
    {
     "name": "stdout",
     "output_type": "stream",
     "text": [
      "Overwriting mr-jobs/1_protocols.py\n"
     ]
    }
   ],
   "source": [
    "%%file mr-jobs/1_protocols.py\n",
    "from mrjob.job import MRJob\n",
    "from mrjob.protocol import JSONValueProtocol\n",
    "\n",
    "\n",
    "class MRTest(MRJob):\n",
    "    \n",
    "    INPUT_PROTOCOL = JSONValueProtocol\n",
    "\n",
    "    def mapper(self, _, value):\n",
    "        yield value.get('jobId', None), value.get('jobLocation', None)\n",
    "\n",
    "        \n",
    "if __name__ == '__main__':\n",
    "    MRTest.run()"
   ]
  },
  {
   "cell_type": "markdown",
   "metadata": {},
   "source": [
    "- Test locally:"
   ]
  },
  {
   "cell_type": "code",
   "execution_count": 4,
   "metadata": {},
   "outputs": [
    {
     "name": "stdout",
     "output_type": "stream",
     "text": [
      "No configs found; falling back on auto-configuration\n",
      "No configs specified for inline runner\n",
      "Running step 1 of 1...\n",
      "Creating temp directory /tmp/1_protocols.hadoop.20180917.194941.443536\n",
      "job output is in mr-output\n",
      "Removing temp directory /tmp/1_protocols.hadoop.20180917.194941.443536...\n"
     ]
    }
   ],
   "source": [
    "!python3 mr-jobs/1_protocols.py ../data/job-data/* --output-dir mr-output"
   ]
  },
  {
   "cell_type": "markdown",
   "metadata": {},
   "source": [
    "- Run on your Hadoop cluster:"
   ]
  },
  {
   "cell_type": "code",
   "execution_count": 5,
   "metadata": {},
   "outputs": [
    {
     "name": "stdout",
     "output_type": "stream",
     "text": [
      "rm: `hdfs:///user/hadoop/mr-output': No such file or directory\r\n"
     ]
    }
   ],
   "source": [
    "!hdfs dfs -rm -r hdfs:///user/hadoop/mr-output"
   ]
  },
  {
   "cell_type": "code",
   "execution_count": 6,
   "metadata": {},
   "outputs": [
    {
     "name": "stdout",
     "output_type": "stream",
     "text": [
      "No configs found; falling back on auto-configuration\n",
      "No configs specified for hadoop runner\n",
      "Looking for hadoop binary in /usr/local/hadoop-2.8.4/bin...\n",
      "Found hadoop binary: /usr/local/hadoop-2.8.4/bin/hadoop\n",
      "Using Hadoop version 2.8.4\n",
      "Looking for Hadoop streaming jar in /usr/local/hadoop-2.8.4...\n",
      "Found Hadoop streaming jar: /usr/local/hadoop-2.8.4/share/hadoop/tools/lib/hadoop-streaming-2.8.4.jar\n",
      "Creating temp directory /tmp/1_protocols.hadoop.20180917.194955.215438\n",
      "Copying local files to hdfs:///user/hadoop/tmp/mrjob/1_protocols.hadoop.20180917.194955.215438/files/...\n",
      "Running step 1 of 1...\n",
      "  packageJobJar: [/tmp/hadoop-unjar6713737929763242450/] [] /tmp/streamjob4173970394021557560.jar tmpDir=null\n",
      "  Connecting to ResourceManager at /0.0.0.0:8032\n",
      "  Connecting to ResourceManager at /0.0.0.0:8032\n",
      "  Total input files to process : 2\n",
      "  number of splits:2\n",
      "  Submitting tokens for job: job_1537213265656_0001\n",
      "  Submitted application application_1537213265656_0001\n",
      "  The url to track the job: http://6960b4d3da60:8088/proxy/application_1537213265656_0001/\n",
      "  Running job: job_1537213265656_0001\n",
      "  Job job_1537213265656_0001 running in uber mode : false\n",
      "   map 0% reduce 0%\n",
      "   map 100% reduce 0%\n",
      "  Job job_1537213265656_0001 completed successfully\n",
      "  Output directory: hdfs:///user/hadoop/mr-output/\n",
      "Counters: 31\n",
      "\tFile Input Format Counters \n",
      "\t\tBytes Read=8849806\n",
      "\tFile Output Format Counters \n",
      "\t\tBytes Written=463148\n",
      "\tFile System Counters\n",
      "\t\tFILE: Number of bytes read=0\n",
      "\t\tFILE: Number of bytes written=323482\n",
      "\t\tFILE: Number of large read operations=0\n",
      "\t\tFILE: Number of read operations=0\n",
      "\t\tFILE: Number of write operations=0\n",
      "\t\tHDFS: Number of bytes read=8850042\n",
      "\t\tHDFS: Number of bytes written=463148\n",
      "\t\tHDFS: Number of large read operations=0\n",
      "\t\tHDFS: Number of read operations=10\n",
      "\t\tHDFS: Number of write operations=4\n",
      "\tJob Counters \n",
      "\t\tData-local map tasks=2\n",
      "\t\tKilled map tasks=1\n",
      "\t\tLaunched map tasks=2\n",
      "\t\tTotal megabyte-milliseconds taken by all map tasks=9242624\n",
      "\t\tTotal time spent by all map tasks (ms)=9026\n",
      "\t\tTotal time spent by all maps in occupied slots (ms)=9026\n",
      "\t\tTotal time spent by all reduces in occupied slots (ms)=0\n",
      "\t\tTotal vcore-milliseconds taken by all map tasks=9026\n",
      "\tMap-Reduce Framework\n",
      "\t\tCPU time spent (ms)=810\n",
      "\t\tFailed Shuffles=0\n",
      "\t\tGC time elapsed (ms)=113\n",
      "\t\tInput split bytes=236\n",
      "\t\tMap input records=1772\n",
      "\t\tMap output records=1772\n",
      "\t\tMerged Map outputs=0\n",
      "\t\tPhysical memory (bytes) snapshot=302424064\n",
      "\t\tSpilled Records=0\n",
      "\t\tTotal committed heap usage (bytes)=169345024\n",
      "\t\tVirtual memory (bytes) snapshot=3924934656\n",
      "job output is in hdfs:///user/hadoop/mr-output/\n",
      "Removing HDFS temp directory hdfs:///user/hadoop/tmp/mrjob/1_protocols.hadoop.20180917.194955.215438...\n",
      "Removing temp directory /tmp/1_protocols.hadoop.20180917.194955.215438...\n"
     ]
    }
   ],
   "source": [
    "!python3 mr-jobs/1_protocols.py -r hadoop \\\n",
    "hdfs:///user/hadoop/job-data/ \\\n",
    "--output-dir mr-output/"
   ]
  },
  {
   "cell_type": "markdown",
   "metadata": {},
   "source": [
    "## 2. Filtering\n",
    "\n",
    "Keys:\n",
    "\n",
    "- Filtering pattern aims to find a subset of data but usually not change the actural records. \n",
    "  - We can set `OUTPUT_PROTOCOL = JSONValueProtocol` to ignore the key field for each record in the output.\n",
    "- Filtering patterns usually don't need a reducer if each record is filtered individually and the evaluation does not depend on other records.\n",
    "- Filtering usually serves as an abstract pattern for some other patterns.\n",
    "\n",
    "Applications:\n",
    "\n",
    "- Data cleaning\n",
    "- Events tracking\n",
    "- Records matching\n",
    "- Random sampling\n",
    "- Dataset splitting"
   ]
  },
  {
   "cell_type": "markdown",
   "metadata": {},
   "source": [
    "### 2.1 Simple Filtering\n",
    "\n",
    "Simple filtering is often used when data cleaning, events tracking, outliers removing, etc., are needed.\n",
    "\n",
    "**Example**: Find all jobs with titles relavant to *Data Scientist*.\n",
    "\n",
    "\n",
    "- *Data flow*:\n",
    "\n",
    "  Input:`record` $\\rightarrow$ mapper:`<_, record> [if keyword in title -> <None, record>]` $\\rightarrow$ Output:`record`\n",
    "  \n",
    "- *Features and highlights*:\n",
    "  \n",
    "  `OUTPUT_PROTOCOL = JSONValueProtocol` ignores the key field for each record in the output"
   ]
  },
  {
   "cell_type": "code",
   "execution_count": 7,
   "metadata": {},
   "outputs": [
    {
     "name": "stdout",
     "output_type": "stream",
     "text": [
      "Overwriting mr-jobs/2.1_simple_filtering.py\n"
     ]
    }
   ],
   "source": [
    "%%file mr-jobs/2.1_simple_filtering.py\n",
    "from mrjob.job import MRJob\n",
    "from mrjob.protocol import JSONValueProtocol\n",
    "\n",
    "\n",
    "class MRSimpleFiltering(MRJob):\n",
    "    \n",
    "    INPUT_PROTOCOL = JSONValueProtocol\n",
    "    OUTPUT_PROTOCOL = JSONValueProtocol\n",
    "    \n",
    "    def mapper(self, _, value):\n",
    "        title = value.get('title', '').lower()\n",
    "        if title.find('data scientist') > -1:\n",
    "            yield _, value\n",
    "\n",
    "\n",
    "if __name__ == '__main__':\n",
    "    MRSimpleFiltering.run()"
   ]
  },
  {
   "cell_type": "markdown",
   "metadata": {},
   "source": [
    "Test locally:"
   ]
  },
  {
   "cell_type": "code",
   "execution_count": 8,
   "metadata": {
    "scrolled": true
   },
   "outputs": [
    {
     "name": "stdout",
     "output_type": "stream",
     "text": [
      "No configs found; falling back on auto-configuration\n",
      "No configs specified for inline runner\n",
      "Running step 1 of 1...\n",
      "Creating temp directory /tmp/2.hadoop.20180917.195716.323274\n",
      "job output is in mr-output\n",
      "Removing temp directory /tmp/2.hadoop.20180917.195716.323274...\n"
     ]
    }
   ],
   "source": [
    "!python3 mr-jobs/2.1_simple_filtering.py ../data/job-data/* --output-dir mr-output"
   ]
  },
  {
   "cell_type": "markdown",
   "metadata": {},
   "source": [
    "Run on your Hadoop cluster:"
   ]
  },
  {
   "cell_type": "code",
   "execution_count": 9,
   "metadata": {},
   "outputs": [
    {
     "name": "stdout",
     "output_type": "stream",
     "text": [
      "Deleted hdfs:///user/hadoop/mr-output\r\n"
     ]
    }
   ],
   "source": [
    "!hdfs dfs -rm -r hdfs:///user/hadoop/mr-output"
   ]
  },
  {
   "cell_type": "code",
   "execution_count": 10,
   "metadata": {},
   "outputs": [
    {
     "name": "stdout",
     "output_type": "stream",
     "text": [
      "No configs found; falling back on auto-configuration\n",
      "No configs specified for hadoop runner\n",
      "Looking for hadoop binary in /usr/local/hadoop-2.8.4/bin...\n",
      "Found hadoop binary: /usr/local/hadoop-2.8.4/bin/hadoop\n",
      "Using Hadoop version 2.8.4\n",
      "Looking for Hadoop streaming jar in /usr/local/hadoop-2.8.4...\n",
      "Found Hadoop streaming jar: /usr/local/hadoop-2.8.4/share/hadoop/tools/lib/hadoop-streaming-2.8.4.jar\n",
      "Creating temp directory /tmp/2.hadoop.20180917.195722.789748\n",
      "Copying local files to hdfs:///user/hadoop/tmp/mrjob/2.hadoop.20180917.195722.789748/files/...\n",
      "Running step 1 of 1...\n",
      "  packageJobJar: [/tmp/hadoop-unjar3180053945958338081/] [] /tmp/streamjob5801617666499891608.jar tmpDir=null\n",
      "  Connecting to ResourceManager at /0.0.0.0:8032\n",
      "  Connecting to ResourceManager at /0.0.0.0:8032\n",
      "  Total input files to process : 2\n",
      "  number of splits:2\n",
      "  Submitting tokens for job: job_1537213265656_0002\n",
      "  Submitted application application_1537213265656_0002\n",
      "  The url to track the job: http://6960b4d3da60:8088/proxy/application_1537213265656_0002/\n",
      "  Running job: job_1537213265656_0002\n",
      "  Job job_1537213265656_0002 running in uber mode : false\n",
      "   map 0% reduce 0%\n",
      "   map 100% reduce 0%\n",
      "  Job job_1537213265656_0002 completed successfully\n",
      "  Output directory: hdfs:///user/hadoop/mr-output/\n",
      "Counters: 30\n",
      "\tFile Input Format Counters \n",
      "\t\tBytes Read=8849806\n",
      "\tFile Output Format Counters \n",
      "\t\tBytes Written=2928694\n",
      "\tFile System Counters\n",
      "\t\tFILE: Number of bytes read=0\n",
      "\t\tFILE: Number of bytes written=323470\n",
      "\t\tFILE: Number of large read operations=0\n",
      "\t\tFILE: Number of read operations=0\n",
      "\t\tFILE: Number of write operations=0\n",
      "\t\tHDFS: Number of bytes read=8850042\n",
      "\t\tHDFS: Number of bytes written=2928694\n",
      "\t\tHDFS: Number of large read operations=0\n",
      "\t\tHDFS: Number of read operations=10\n",
      "\t\tHDFS: Number of write operations=4\n",
      "\tJob Counters \n",
      "\t\tData-local map tasks=2\n",
      "\t\tLaunched map tasks=2\n",
      "\t\tTotal megabyte-milliseconds taken by all map tasks=7161856\n",
      "\t\tTotal time spent by all map tasks (ms)=6994\n",
      "\t\tTotal time spent by all maps in occupied slots (ms)=6994\n",
      "\t\tTotal time spent by all reduces in occupied slots (ms)=0\n",
      "\t\tTotal vcore-milliseconds taken by all map tasks=6994\n",
      "\tMap-Reduce Framework\n",
      "\t\tCPU time spent (ms)=950\n",
      "\t\tFailed Shuffles=0\n",
      "\t\tGC time elapsed (ms)=144\n",
      "\t\tInput split bytes=236\n",
      "\t\tMap input records=1772\n",
      "\t\tMap output records=657\n",
      "\t\tMerged Map outputs=0\n",
      "\t\tPhysical memory (bytes) snapshot=304451584\n",
      "\t\tSpilled Records=0\n",
      "\t\tTotal committed heap usage (bytes)=173015040\n",
      "\t\tVirtual memory (bytes) snapshot=3924553728\n",
      "job output is in hdfs:///user/hadoop/mr-output/\n",
      "Removing HDFS temp directory hdfs:///user/hadoop/tmp/mrjob/2.hadoop.20180917.195722.789748...\n",
      "Removing temp directory /tmp/2.hadoop.20180917.195722.789748...\n"
     ]
    }
   ],
   "source": [
    "!python3 mr-jobs/2.1_simple_filtering.py \\\n",
    "-r hadoop hdfs:///user/hadoop/job-data/ \\\n",
    "--output-dir mr-output/"
   ]
  },
  {
   "cell_type": "markdown",
   "metadata": {},
   "source": [
    "### 2.2 Random Sampling\n",
    "\n",
    "Random sampling pattern allows us to create a subset (usually much smaller) of our larger dataset for quick exploration. Thus each record should have an equal probability of being selected. \n",
    "\n",
    "If reproducible is not required, then we can use a random function, e.g.: `random.uniform(a, b)` in python, to do the work."
   ]
  },
  {
   "cell_type": "markdown",
   "metadata": {},
   "source": [
    "**Example**: Create a random subset with 10% of the full dataset.\n",
    "\n",
    "We want to pass an argument `fraction` to our `MRJob` script. We can do this by using `MRJob.configure_args()` and `MRJob.add_passthru_arg()` together.\n",
    "\n",
    "- *Data flow*:\n",
    "\n",
    "  Input:`record` $\\rightarrow$ mapper:`<_, record> [Prob=0.1 -> <None, record>]` $\\rightarrow$ Output:`record`\n",
    "  \n",
    "- *Features and highlights*:\n",
    "  \n",
    "  - `MRJob.configure_args()` allows user to define arguments for this script \n",
    "  - `MRJob.add_passthru_arg('--fraction', **kwargs)` defines a command-line argument named `fraction`\n",
    "  - To pass a value to `fraction` via command-line arguemnt: `--fraction <value>`\n",
    "  - To use `fraction` in script: `MRJob.options.fraction`\n",
    "  - `MRJob.mapper_init()` validates the value of `fraction` before the `mapper` processes any input."
   ]
  },
  {
   "cell_type": "code",
   "execution_count": 11,
   "metadata": {
    "scrolled": false
   },
   "outputs": [
    {
     "name": "stdout",
     "output_type": "stream",
     "text": [
      "Overwriting mr-jobs/2.2_random_sampling.py\n"
     ]
    }
   ],
   "source": [
    "%%file mr-jobs/2.2_random_sampling.py\n",
    "from mrjob.job import MRJob\n",
    "from mrjob.protocol import JSONValueProtocol\n",
    "\n",
    "import random\n",
    "\n",
    "\n",
    "class MRRandomSampling(MRJob):\n",
    "    \n",
    "    INPUT_PROTOCOL = JSONValueProtocol\n",
    "    OUTPUT_PROTOCOL = JSONValueProtocol\n",
    "    \n",
    "    def configure_args(self):\n",
    "        super().configure_args()\n",
    "        self.add_passthru_arg('--fraction', type=float)\n",
    "        \n",
    "    def mapper_init(self):\n",
    "        if self.options.fraction > 1 or self.options.fraction < 0:\n",
    "            raise ValueError('Invalid fraction value')\n",
    "        \n",
    "    def mapper(self, _, value):\n",
    "        key = value.get('jobId', 0)\n",
    "        if random.uniform(0, 1) < self.options.fraction:\n",
    "            yield _, value\n",
    "\n",
    "\n",
    "if __name__ == '__main__':\n",
    "    MRRandomSampling.run()"
   ]
  },
  {
   "cell_type": "markdown",
   "metadata": {},
   "source": [
    "- Test locally:"
   ]
  },
  {
   "cell_type": "code",
   "execution_count": 12,
   "metadata": {},
   "outputs": [
    {
     "name": "stdout",
     "output_type": "stream",
     "text": [
      "No configs found; falling back on auto-configuration\n",
      "No configs specified for inline runner\n",
      "Running step 1 of 1...\n",
      "Creating temp directory /tmp/2.hadoop.20180917.201211.098756\n",
      "job output is in mr-output/\n",
      "Removing temp directory /tmp/2.hadoop.20180917.201211.098756...\n"
     ]
    }
   ],
   "source": [
    "!python3 mr-jobs/2.2_random_sampling.py ../data/job-data/* --output-dir mr-output/ --fraction .1"
   ]
  },
  {
   "cell_type": "markdown",
   "metadata": {},
   "source": [
    "- Run on your Hadoop cluster:"
   ]
  },
  {
   "cell_type": "code",
   "execution_count": 13,
   "metadata": {},
   "outputs": [
    {
     "name": "stdout",
     "output_type": "stream",
     "text": [
      "Deleted hdfs:///user/hadoop/mr-output\r\n"
     ]
    }
   ],
   "source": [
    "!hdfs dfs -rm -r hdfs:///user/hadoop/mr-output"
   ]
  },
  {
   "cell_type": "code",
   "execution_count": 14,
   "metadata": {},
   "outputs": [
    {
     "name": "stdout",
     "output_type": "stream",
     "text": [
      "No configs found; falling back on auto-configuration\n",
      "No configs specified for hadoop runner\n",
      "Looking for hadoop binary in /usr/local/hadoop-2.8.4/bin...\n",
      "Found hadoop binary: /usr/local/hadoop-2.8.4/bin/hadoop\n",
      "Using Hadoop version 2.8.4\n",
      "Looking for Hadoop streaming jar in /usr/local/hadoop-2.8.4...\n",
      "Found Hadoop streaming jar: /usr/local/hadoop-2.8.4/share/hadoop/tools/lib/hadoop-streaming-2.8.4.jar\n",
      "Creating temp directory /tmp/2.hadoop.20180917.201230.575867\n",
      "Copying local files to hdfs:///user/hadoop/tmp/mrjob/2.hadoop.20180917.201230.575867/files/...\n",
      "Running step 1 of 1...\n",
      "  packageJobJar: [/tmp/hadoop-unjar2795125246264927770/] [] /tmp/streamjob2287919316353107370.jar tmpDir=null\n",
      "  Connecting to ResourceManager at /0.0.0.0:8032\n",
      "  Connecting to ResourceManager at /0.0.0.0:8032\n",
      "  Total input files to process : 2\n",
      "  number of splits:2\n",
      "  Submitting tokens for job: job_1537213265656_0003\n",
      "  Submitted application application_1537213265656_0003\n",
      "  The url to track the job: http://6960b4d3da60:8088/proxy/application_1537213265656_0003/\n",
      "  Running job: job_1537213265656_0003\n",
      "  Job job_1537213265656_0003 running in uber mode : false\n",
      "   map 0% reduce 0%\n",
      "   map 50% reduce 0%\n",
      "   map 100% reduce 0%\n",
      "  Job job_1537213265656_0003 completed successfully\n",
      "  Output directory: hdfs:///user/hadoop/mr-output/\n",
      "Counters: 30\n",
      "\tFile Input Format Counters \n",
      "\t\tBytes Read=8849806\n",
      "\tFile Output Format Counters \n",
      "\t\tBytes Written=796538\n",
      "\tFile System Counters\n",
      "\t\tFILE: Number of bytes read=0\n",
      "\t\tFILE: Number of bytes written=323486\n",
      "\t\tFILE: Number of large read operations=0\n",
      "\t\tFILE: Number of read operations=0\n",
      "\t\tFILE: Number of write operations=0\n",
      "\t\tHDFS: Number of bytes read=8850042\n",
      "\t\tHDFS: Number of bytes written=796538\n",
      "\t\tHDFS: Number of large read operations=0\n",
      "\t\tHDFS: Number of read operations=10\n",
      "\t\tHDFS: Number of write operations=4\n",
      "\tJob Counters \n",
      "\t\tData-local map tasks=2\n",
      "\t\tLaunched map tasks=2\n",
      "\t\tTotal megabyte-milliseconds taken by all map tasks=8565760\n",
      "\t\tTotal time spent by all map tasks (ms)=8365\n",
      "\t\tTotal time spent by all maps in occupied slots (ms)=8365\n",
      "\t\tTotal time spent by all reduces in occupied slots (ms)=0\n",
      "\t\tTotal vcore-milliseconds taken by all map tasks=8365\n",
      "\tMap-Reduce Framework\n",
      "\t\tCPU time spent (ms)=1030\n",
      "\t\tFailed Shuffles=0\n",
      "\t\tGC time elapsed (ms)=159\n",
      "\t\tInput split bytes=236\n",
      "\t\tMap input records=1772\n",
      "\t\tMap output records=166\n",
      "\t\tMerged Map outputs=0\n",
      "\t\tPhysical memory (bytes) snapshot=301711360\n",
      "\t\tSpilled Records=0\n",
      "\t\tTotal committed heap usage (bytes)=170393600\n",
      "\t\tVirtual memory (bytes) snapshot=3924537344\n",
      "job output is in hdfs:///user/hadoop/mr-output/\n",
      "Removing HDFS temp directory hdfs:///user/hadoop/tmp/mrjob/2.hadoop.20180917.201230.575867...\n",
      "Removing temp directory /tmp/2.hadoop.20180917.201230.575867...\n"
     ]
    }
   ],
   "source": [
    "!python3 mr-jobs/2.2_random_sampling.py \\\n",
    "-r hadoop hdfs:///user/hadoop/job-data/ \\\n",
    "--output-dir mr-output/ --fraction .1"
   ]
  },
  {
   "cell_type": "markdown",
   "metadata": {},
   "source": [
    "## 2.3 Data Splitting\n",
    "\n",
    "For machine learning modeling, we usually divide the data set into two non-overlapping subsets:\n",
    "- training set — a subset to train a model.\n",
    "- test set — a subset to test the trained model.\n",
    "\n",
    "If the goal is to split the dataset into such two subsets, then we need to make sure:\n",
    "- each record can only be selected into one of the two datasets\n",
    "- sampling is reproducible"
   ]
  },
  {
   "cell_type": "markdown",
   "metadata": {},
   "source": [
    "The `sample` function below returns either `True` or `False` based on the hashed value of key and fraction:\n",
    "1. split fraction into *numerator* and *denominator*, e.g.: 0.125 $\\rightarrow$ 125/1000\n",
    "2. calculate the hash value of the key. Here we will use MD5, which is a widely used hash function producing a 128-bit hash value.\n",
    "3. calculate hash value modulo *denominator*, if it's less than *numerator*, return `True`, otherwise return `False`.\n",
    "\n",
    "Note: if you just want to randomly sample the dataset, then a simple random number generator will work."
   ]
  },
  {
   "cell_type": "code",
   "execution_count": 15,
   "metadata": {},
   "outputs": [],
   "source": [
    "import decimal\n",
    "import hashlib\n",
    "\n",
    "def sample(key, fraction):\n",
    "    if fraction > 1 or fraction < 0:\n",
    "        raise ValueError('Invalid fraction value')\n",
    "    # calculate numerator and denominator\n",
    "    frac = decimal.Decimal(str(fraction)).as_tuple()\n",
    "    numer = sum([v*10**i for i, v in enumerate(frac.digits[::-1])])\n",
    "    denom = 10**(-frac.exponent)\n",
    "    # calculate hash value using md5\n",
    "    hash_val = hashlib.md5(str(key).encode()).hexdigest()\n",
    "    return (int(hash_val, 16) % denom) < numer"
   ]
  },
  {
   "cell_type": "code",
   "execution_count": 16,
   "metadata": {},
   "outputs": [
    {
     "name": "stdout",
     "output_type": "stream",
     "text": [
      "259\n"
     ]
    }
   ],
   "source": [
    "# test the function with the code below\n",
    "N = 1000\n",
    "print(sum([sample(i, fraction=0.25) for i in range(N)]))"
   ]
  },
  {
   "cell_type": "markdown",
   "metadata": {},
   "source": [
    "**Example**: Randomly slicing a single data set into a training set (70%) and test set (30%)\n",
    " \n",
    "- *Features and highlights*:\n",
    "    \n",
    "  - `MRJob.add_passthru_arg('--split')` defines a command-line argument named `split`, which takes value \"train\" or \"test\". \n",
    "    - If `split=train`, it outputs train subset, otherwise it outputs test subset.\n",
    "  - `MRJob.add_passthru_arg('--test_size')` defines a command-line argument named `test_size`. \n",
    "    - The value should be between 0.0 and 1.0, which represent the proportion of the dataset to include in the test split.\n",
    "  - To create a train/test split, we run the script twice, one with `split=train` and one with `split=test`."
   ]
  },
  {
   "cell_type": "code",
   "execution_count": 17,
   "metadata": {},
   "outputs": [
    {
     "name": "stdout",
     "output_type": "stream",
     "text": [
      "Overwriting mr-jobs/2.3_train_test_splitting.py\n"
     ]
    }
   ],
   "source": [
    "%%file mr-jobs/2.3_train_test_splitting.py\n",
    "from mrjob.job import MRJob\n",
    "from mrjob.protocol import JSONValueProtocol\n",
    "\n",
    "import decimal\n",
    "import hashlib\n",
    "\n",
    "\n",
    "class MRTrainTestSplit(MRJob):\n",
    "    \n",
    "    INPUT_PROTOCOL = JSONValueProtocol\n",
    "    OUTPUT_PROTOCOL = JSONValueProtocol\n",
    "    \n",
    "    def configure_args(self):\n",
    "        super().configure_args()\n",
    "        self.add_passthru_arg('--split')\n",
    "        self.add_passthru_arg('--test_size', type=float, default=0.3)\n",
    "        \n",
    "    def mapper_init(self):\n",
    "        if self.options.split not in ('train', 'test'):\n",
    "            raise ValueError('Invalid split value')\n",
    "        if self.options.test_size > 1 or self.options.test_size < 0:\n",
    "            raise ValueError('Invalid test size')\n",
    "        \n",
    "    def mapper(self, _, value):\n",
    "        key = value.get('jobId', 0)\n",
    "        include = self._sample(key=key, fraction=self.options.test_size)\n",
    "        if include ^ (self.options.split=='train'):\n",
    "            yield _, value\n",
    "    \n",
    "    def _sample(self, key, fraction=1):\n",
    "        frac = decimal.Decimal(str(fraction)).as_tuple()\n",
    "        numer = sum([v*10**i for i, v in enumerate(frac.digits[::-1])])\n",
    "        denom = 10**(-frac.exponent)\n",
    "        hash_val = hashlib.md5(str(key).encode()).hexdigest()\n",
    "        return (int(hash_val, 16) % denom) < numer\n",
    "    \n",
    "        \n",
    "if __name__ == '__main__':\n",
    "    MRTrainTestSplit.run()"
   ]
  },
  {
   "cell_type": "markdown",
   "metadata": {},
   "source": [
    "- Test locally:"
   ]
  },
  {
   "cell_type": "code",
   "execution_count": 19,
   "metadata": {},
   "outputs": [
    {
     "name": "stdout",
     "output_type": "stream",
     "text": [
      "No configs found; falling back on auto-configuration\n",
      "No configs specified for inline runner\n",
      "Running step 1 of 1...\n",
      "Creating temp directory /tmp/2.hadoop.20180917.210001.028774\n",
      "job output is in mr-output/train\n",
      "Removing temp directory /tmp/2.hadoop.20180917.210001.028774...\n",
      "No configs found; falling back on auto-configuration\n",
      "No configs specified for inline runner\n",
      "Running step 1 of 1...\n",
      "Creating temp directory /tmp/2.hadoop.20180917.210001.892538\n",
      "job output is in mr-output/test\n",
      "Removing temp directory /tmp/2.hadoop.20180917.210001.892538...\n"
     ]
    }
   ],
   "source": [
    "!python3 mr-jobs/2.3_train_test_splitting.py ../data/job-data/* \\\n",
    "--output-dir mr-output/train \\\n",
    "--test_size 0.3 \\\n",
    "--split train \\\n",
    "&& python3 mr-jobs/2.3_train_test_splitting.py ../data/job-data/* \\\n",
    "--output-dir mr-output/test \\\n",
    "--test_size 0.3 \\\n",
    "--split test \\"
   ]
  },
  {
   "cell_type": "markdown",
   "metadata": {},
   "source": [
    "- Run on your Hadoop cluster:"
   ]
  },
  {
   "cell_type": "code",
   "execution_count": 20,
   "metadata": {},
   "outputs": [
    {
     "name": "stdout",
     "output_type": "stream",
     "text": [
      "Deleted hdfs:///user/hadoop/mr-output\r\n"
     ]
    }
   ],
   "source": [
    "!hdfs dfs -rm -r hdfs:///user/hadoop/mr-output"
   ]
  },
  {
   "cell_type": "markdown",
   "metadata": {},
   "source": [
    "Example: Create a reproducible train/test split."
   ]
  },
  {
   "cell_type": "code",
   "execution_count": 21,
   "metadata": {},
   "outputs": [
    {
     "name": "stdout",
     "output_type": "stream",
     "text": [
      "No configs found; falling back on auto-configuration\n",
      "No configs specified for hadoop runner\n",
      "Looking for hadoop binary in /usr/local/hadoop-2.8.4/bin...\n",
      "Found hadoop binary: /usr/local/hadoop-2.8.4/bin/hadoop\n",
      "Using Hadoop version 2.8.4\n",
      "Looking for Hadoop streaming jar in /usr/local/hadoop-2.8.4...\n",
      "Found Hadoop streaming jar: /usr/local/hadoop-2.8.4/share/hadoop/tools/lib/hadoop-streaming-2.8.4.jar\n",
      "Creating temp directory /tmp/2.hadoop.20180917.210802.021336\n",
      "Copying local files to hdfs:///user/hadoop/tmp/mrjob/2.hadoop.20180917.210802.021336/files/...\n",
      "Running step 1 of 1...\n",
      "  packageJobJar: [/tmp/hadoop-unjar1400999659394682216/] [] /tmp/streamjob3472612473127792809.jar tmpDir=null\n",
      "  Connecting to ResourceManager at /0.0.0.0:8032\n",
      "  Connecting to ResourceManager at /0.0.0.0:8032\n",
      "  Total input files to process : 2\n",
      "  number of splits:2\n",
      "  Submitting tokens for job: job_1537213265656_0004\n",
      "  Submitted application application_1537213265656_0004\n",
      "  The url to track the job: http://6960b4d3da60:8088/proxy/application_1537213265656_0004/\n",
      "  Running job: job_1537213265656_0004\n",
      "  Job job_1537213265656_0004 running in uber mode : false\n",
      "   map 0% reduce 0%\n",
      "   map 100% reduce 0%\n",
      "  Job job_1537213265656_0004 completed successfully\n",
      "  Output directory: hdfs:///user/hadoop/mr-output/train\n",
      "Counters: 30\n",
      "\tFile Input Format Counters \n",
      "\t\tBytes Read=8849806\n",
      "\tFile Output Format Counters \n",
      "\t\tBytes Written=6282102\n",
      "\tFile System Counters\n",
      "\t\tFILE: Number of bytes read=0\n",
      "\t\tFILE: Number of bytes written=323592\n",
      "\t\tFILE: Number of large read operations=0\n",
      "\t\tFILE: Number of read operations=0\n",
      "\t\tFILE: Number of write operations=0\n",
      "\t\tHDFS: Number of bytes read=8850042\n",
      "\t\tHDFS: Number of bytes written=6282102\n",
      "\t\tHDFS: Number of large read operations=0\n",
      "\t\tHDFS: Number of read operations=10\n",
      "\t\tHDFS: Number of write operations=4\n",
      "\tJob Counters \n",
      "\t\tData-local map tasks=2\n",
      "\t\tLaunched map tasks=2\n",
      "\t\tTotal megabyte-milliseconds taken by all map tasks=10736640\n",
      "\t\tTotal time spent by all map tasks (ms)=10485\n",
      "\t\tTotal time spent by all maps in occupied slots (ms)=10485\n",
      "\t\tTotal time spent by all reduces in occupied slots (ms)=0\n",
      "\t\tTotal vcore-milliseconds taken by all map tasks=10485\n",
      "\tMap-Reduce Framework\n",
      "\t\tCPU time spent (ms)=1240\n",
      "\t\tFailed Shuffles=0\n",
      "\t\tGC time elapsed (ms)=160\n",
      "\t\tInput split bytes=236\n",
      "\t\tMap input records=1772\n",
      "\t\tMap output records=1270\n",
      "\t\tMerged Map outputs=0\n",
      "\t\tPhysical memory (bytes) snapshot=284446720\n",
      "\t\tSpilled Records=0\n",
      "\t\tTotal committed heap usage (bytes)=156762112\n",
      "\t\tVirtual memory (bytes) snapshot=3929772032\n",
      "job output is in hdfs:///user/hadoop/mr-output/train\n",
      "Removing HDFS temp directory hdfs:///user/hadoop/tmp/mrjob/2.hadoop.20180917.210802.021336...\n",
      "Removing temp directory /tmp/2.hadoop.20180917.210802.021336...\n",
      "No configs found; falling back on auto-configuration\n",
      "No configs specified for hadoop runner\n",
      "Looking for hadoop binary in /usr/local/hadoop-2.8.4/bin...\n",
      "Found hadoop binary: /usr/local/hadoop-2.8.4/bin/hadoop\n",
      "Using Hadoop version 2.8.4\n",
      "Looking for Hadoop streaming jar in /usr/local/hadoop-2.8.4...\n",
      "Found Hadoop streaming jar: /usr/local/hadoop-2.8.4/share/hadoop/tools/lib/hadoop-streaming-2.8.4.jar\n",
      "Creating temp directory /tmp/2.hadoop.20180917.210837.601823\n",
      "Copying local files to hdfs:///user/hadoop/tmp/mrjob/2.hadoop.20180917.210837.601823/files/...\n",
      "Running step 1 of 1...\n",
      "  packageJobJar: [/tmp/hadoop-unjar2472692084986575446/] [] /tmp/streamjob4954327793857562669.jar tmpDir=null\n",
      "  Connecting to ResourceManager at /0.0.0.0:8032\n",
      "  Connecting to ResourceManager at /0.0.0.0:8032\n",
      "  Total input files to process : 2\n",
      "  number of splits:2\n",
      "  Submitting tokens for job: job_1537213265656_0005\n",
      "  Submitted application application_1537213265656_0005\n",
      "  The url to track the job: http://6960b4d3da60:8088/proxy/application_1537213265656_0005/\n",
      "  Running job: job_1537213265656_0005\n",
      "  Job job_1537213265656_0005 running in uber mode : false\n",
      "   map 0% reduce 0%\n",
      "   map 100% reduce 0%\n",
      "  Job job_1537213265656_0005 completed successfully\n",
      "  Output directory: hdfs:///user/hadoop/mr-output/test\n",
      "Counters: 30\n",
      "\tFile Input Format Counters \n",
      "\t\tBytes Read=8849806\n",
      "\tFile Output Format Counters \n",
      "\t\tBytes Written=2569476\n",
      "\tFile System Counters\n",
      "\t\tFILE: Number of bytes read=0\n",
      "\t\tFILE: Number of bytes written=323588\n",
      "\t\tFILE: Number of large read operations=0\n",
      "\t\tFILE: Number of read operations=0\n",
      "\t\tFILE: Number of write operations=0\n",
      "\t\tHDFS: Number of bytes read=8850042\n",
      "\t\tHDFS: Number of bytes written=2569476\n",
      "\t\tHDFS: Number of large read operations=0\n",
      "\t\tHDFS: Number of read operations=10\n",
      "\t\tHDFS: Number of write operations=4\n",
      "\tJob Counters \n",
      "\t\tData-local map tasks=2\n",
      "\t\tLaunched map tasks=2\n",
      "\t\tTotal megabyte-milliseconds taken by all map tasks=8048640\n",
      "\t\tTotal time spent by all map tasks (ms)=7860\n",
      "\t\tTotal time spent by all maps in occupied slots (ms)=7860\n",
      "\t\tTotal time spent by all reduces in occupied slots (ms)=0\n",
      "\t\tTotal vcore-milliseconds taken by all map tasks=7860\n",
      "\tMap-Reduce Framework\n",
      "\t\tCPU time spent (ms)=1110\n",
      "\t\tFailed Shuffles=0\n",
      "\t\tGC time elapsed (ms)=119\n",
      "\t\tInput split bytes=236\n",
      "\t\tMap input records=1772\n",
      "\t\tMap output records=502\n",
      "\t\tMerged Map outputs=0\n",
      "\t\tPhysical memory (bytes) snapshot=315260928\n",
      "\t\tSpilled Records=0\n",
      "\t\tTotal committed heap usage (bytes)=169869312\n",
      "\t\tVirtual memory (bytes) snapshot=3929534464\n",
      "job output is in hdfs:///user/hadoop/mr-output/test\n",
      "Removing HDFS temp directory hdfs:///user/hadoop/tmp/mrjob/2.hadoop.20180917.210837.601823...\n",
      "Removing temp directory /tmp/2.hadoop.20180917.210837.601823...\n"
     ]
    }
   ],
   "source": [
    "!python3 mr-jobs/2.3_train_test_splitting.py \\\n",
    "-r hadoop hdfs:///user/hadoop/job-data/ \\\n",
    "    --output-dir mr-output/train \\\n",
    "    --test_size 0.3 \\\n",
    "    --split train \\\n",
    "&& python3 mr-jobs/2.3_train_test_splitting.py \\\n",
    "-r hadoop hdfs:///user/hadoop/job-data/ \\\n",
    "    --output-dir mr-output/test \\\n",
    "    --test_size 0.3 \\\n",
    "    --split test"
   ]
  },
  {
   "cell_type": "markdown",
   "metadata": {},
   "source": [
    "## 3. Top N Pattern\n",
    "\n",
    "\n",
    "Keys:\n",
    "\n",
    "- Top n pattern aims to retrieve a relatively small number of records from a large data set according to a ranking scheme specified by user without sorting the entire data set.\n",
    "- The subset needs to be small enough to fit into one single node and thus N should not be too large.\n",
    "\n",
    "Applications:\n",
    "\n",
    "- Outliers detection\n",
    "- Finding the records with lowest/highest values"
   ]
  },
  {
   "cell_type": "markdown",
   "metadata": {},
   "source": [
    "### 3.1 Top N Values\n",
    "\n",
    "In our data set, each job contains two salaires (or no such fields if it's not available), `minValue` and `maxValue`. We want to find out the top N Salaries from all jobs."
   ]
  },
  {
   "cell_type": "markdown",
   "metadata": {},
   "source": [
    "**Example**: Find the top N salaries from all jobs. \n",
    "\n",
    "To receive the top N salary list, we first compair `maxValue`, then `minValue`. \n",
    "\n",
    "\n",
    "- *Data flow*:\n",
    "\n",
    "  Input:`record` $\\rightarrow$ mapper:`<_, (maxValue, minValue)>` $\\rightarrow$ reducer:`<_, top_n[(maxValue, minValue)]>` $\\rightarrow$ Output:`top_n[(maxValue, minValue)]`\n",
    "  \n",
    "- *Features and highlights*:\n",
    "  \n",
    "  - ignore key field in `mapper` so only one reducer will be involved  \n",
    "  - `MRJob.reducer_init()` initializes top N sorted list\n",
    "  - `MRJob.reducer()` inserts record into top N sorted list, alway truncate list to a length of N\n",
    "  - `MRJob.reducer_final()` emits record from top N sorted list\n",
    "  - add `combiner_init`/`combiner`/`combiner_final` steps with `MrJob.steps()` to reduce data\n",
    "  "
   ]
  },
  {
   "cell_type": "code",
   "execution_count": 29,
   "metadata": {},
   "outputs": [
    {
     "name": "stdout",
     "output_type": "stream",
     "text": [
      "Overwriting mr-jobs/3.1_top_n_value.py\n"
     ]
    }
   ],
   "source": [
    "%%file mr-jobs/3.1_top_n_value.py\n",
    "from mrjob.job import MRJob\n",
    "from mrjob.step import MRStep\n",
    "from mrjob.protocol import JSONValueProtocol\n",
    "\n",
    "import heapq\n",
    "\n",
    "\n",
    "class MRTopNValue(MRJob):\n",
    "    \n",
    "    INPUT_PROTOCOL = JSONValueProtocol\n",
    "    OUTPUT_PROTOCOL = JSONValueProtocol\n",
    "        \n",
    "    def configure_args(self):\n",
    "        super().configure_args()\n",
    "        self.add_passthru_arg('--top_n', type=int)\n",
    "        \n",
    "    def mapper(self, _, value):\n",
    "        try:\n",
    "            max_ = float(value['estimatedSalary']['value']['maxValue'])\n",
    "            min_ = float(value['estimatedSalary']['value']['minValue'])\n",
    "        except (KeyError, ValueError):\n",
    "            pass\n",
    "        else:\n",
    "            yield _, (max_, min_)\n",
    "    \n",
    "    def reducer_init(self):\n",
    "        if self.options.top_n < 1:\n",
    "            raise ValueError('Invalid top_n value')\n",
    "        self.top_n = []\n",
    "        \n",
    "    def reducer(self, _, values):\n",
    "        for value in values:\n",
    "            if len(self.top_n) < self.options.top_n:\n",
    "                heapq.heappush(self.top_n, value)\n",
    "            else:\n",
    "                heapq.heappushpop(self.top_n, value)\n",
    "                \n",
    "    def reducer_final(self):\n",
    "        for value in self.top_n:\n",
    "            yield None, value\n",
    "            \n",
    "    def steps(self):\n",
    "        return [MRStep(mapper=self.mapper,\n",
    "                       combiner_init=self.reducer_init,\n",
    "                       combiner=self.reducer,\n",
    "                       combiner_final=self.reducer_final,\n",
    "                       reducer_init=self.reducer_init,\n",
    "                       reducer=self.reducer,\n",
    "                       reducer_final=self.reducer_final)]\n",
    "\n",
    "\n",
    "if __name__ == '__main__':\n",
    "    MRTopNValue.run()"
   ]
  },
  {
   "cell_type": "markdown",
   "metadata": {},
   "source": [
    "- Test locally:"
   ]
  },
  {
   "cell_type": "code",
   "execution_count": 30,
   "metadata": {},
   "outputs": [
    {
     "name": "stdout",
     "output_type": "stream",
     "text": [
      "No configs found; falling back on auto-configuration\n",
      "No configs specified for inline runner\n",
      "Running step 1 of 1...\n",
      "Creating temp directory /tmp/3.hadoop.20180917.214934.843028\n",
      "job output is in mr-output\n",
      "Removing temp directory /tmp/3.hadoop.20180917.214934.843028...\n"
     ]
    }
   ],
   "source": [
    "!python3 mr-jobs/3.1_top_n_value.py ../data/job-data/* --output-dir mr-output --top_n 10"
   ]
  },
  {
   "cell_type": "markdown",
   "metadata": {},
   "source": [
    "- Run on your Hadoop cluster:"
   ]
  },
  {
   "cell_type": "code",
   "execution_count": 27,
   "metadata": {},
   "outputs": [
    {
     "name": "stdout",
     "output_type": "stream",
     "text": [
      "Deleted hdfs:///user/hadoop/mr-output\r\n"
     ]
    }
   ],
   "source": [
    "!hdfs dfs -rm -r hdfs:///user/hadoop/mr-output"
   ]
  },
  {
   "cell_type": "code",
   "execution_count": 28,
   "metadata": {},
   "outputs": [
    {
     "name": "stdout",
     "output_type": "stream",
     "text": [
      "No configs found; falling back on auto-configuration\n",
      "No configs specified for hadoop runner\n",
      "Looking for hadoop binary in /usr/local/hadoop-2.8.4/bin...\n",
      "Found hadoop binary: /usr/local/hadoop-2.8.4/bin/hadoop\n",
      "Using Hadoop version 2.8.4\n",
      "Looking for Hadoop streaming jar in /usr/local/hadoop-2.8.4...\n",
      "Found Hadoop streaming jar: /usr/local/hadoop-2.8.4/share/hadoop/tools/lib/hadoop-streaming-2.8.4.jar\n",
      "Creating temp directory /tmp/3.hadoop.20180917.214328.075221\n",
      "Copying local files to hdfs:///user/hadoop/tmp/mrjob/3.hadoop.20180917.214328.075221/files/...\n",
      "Running step 1 of 1...\n",
      "  packageJobJar: [/tmp/hadoop-unjar7919524179329501160/] [] /tmp/streamjob8814091119527007559.jar tmpDir=null\n",
      "  Connecting to ResourceManager at /0.0.0.0:8032\n",
      "  Connecting to ResourceManager at /0.0.0.0:8032\n",
      "  Total input files to process : 2\n",
      "  number of splits:2\n",
      "  Submitting tokens for job: job_1537213265656_0006\n",
      "  Submitted application application_1537213265656_0006\n",
      "  The url to track the job: http://6960b4d3da60:8088/proxy/application_1537213265656_0006/\n",
      "  Running job: job_1537213265656_0006\n",
      "  Job job_1537213265656_0006 running in uber mode : false\n",
      "   map 0% reduce 0%\n",
      "   map 100% reduce 0%\n",
      "   map 100% reduce 100%\n",
      "  Job job_1537213265656_0006 completed successfully\n",
      "  Output directory: hdfs:///user/hadoop/mr-output/\n",
      "Counters: 49\n",
      "\tFile Input Format Counters \n",
      "\t\tBytes Read=8849806\n",
      "\tFile Output Format Counters \n",
      "\t\tBytes Written=220\n",
      "\tFile System Counters\n",
      "\t\tFILE: Number of bytes read=565\n",
      "\t\tFILE: Number of bytes written=488923\n",
      "\t\tFILE: Number of large read operations=0\n",
      "\t\tFILE: Number of read operations=0\n",
      "\t\tFILE: Number of write operations=0\n",
      "\t\tHDFS: Number of bytes read=8850042\n",
      "\t\tHDFS: Number of bytes written=220\n",
      "\t\tHDFS: Number of large read operations=0\n",
      "\t\tHDFS: Number of read operations=9\n",
      "\t\tHDFS: Number of write operations=2\n",
      "\tJob Counters \n",
      "\t\tData-local map tasks=2\n",
      "\t\tLaunched map tasks=2\n",
      "\t\tLaunched reduce tasks=1\n",
      "\t\tTotal megabyte-milliseconds taken by all map tasks=11665408\n",
      "\t\tTotal megabyte-milliseconds taken by all reduce tasks=4137984\n",
      "\t\tTotal time spent by all map tasks (ms)=11392\n",
      "\t\tTotal time spent by all maps in occupied slots (ms)=11392\n",
      "\t\tTotal time spent by all reduce tasks (ms)=4041\n",
      "\t\tTotal time spent by all reduces in occupied slots (ms)=4041\n",
      "\t\tTotal vcore-milliseconds taken by all map tasks=11392\n",
      "\t\tTotal vcore-milliseconds taken by all reduce tasks=4041\n",
      "\tMap-Reduce Framework\n",
      "\t\tCPU time spent (ms)=2120\n",
      "\t\tCombine input records=972\n",
      "\t\tCombine output records=20\n",
      "\t\tFailed Shuffles=0\n",
      "\t\tGC time elapsed (ms)=215\n",
      "\t\tInput split bytes=236\n",
      "\t\tMap input records=1772\n",
      "\t\tMap output bytes=24362\n",
      "\t\tMap output materialized bytes=571\n",
      "\t\tMap output records=972\n",
      "\t\tMerged Map outputs=2\n",
      "\t\tPhysical memory (bytes) snapshot=667791360\n",
      "\t\tReduce input groups=1\n",
      "\t\tReduce input records=20\n",
      "\t\tReduce output records=10\n",
      "\t\tReduce shuffle bytes=571\n",
      "\t\tShuffled Maps =2\n",
      "\t\tSpilled Records=40\n",
      "\t\tTotal committed heap usage (bytes)=465567744\n",
      "\t\tVirtual memory (bytes) snapshot=5888749568\n",
      "\tShuffle Errors\n",
      "\t\tBAD_ID=0\n",
      "\t\tCONNECTION=0\n",
      "\t\tIO_ERROR=0\n",
      "\t\tWRONG_LENGTH=0\n",
      "\t\tWRONG_MAP=0\n",
      "\t\tWRONG_REDUCE=0\n",
      "job output is in hdfs:///user/hadoop/mr-output/\n",
      "Removing HDFS temp directory hdfs:///user/hadoop/tmp/mrjob/3.hadoop.20180917.214328.075221...\n",
      "Removing temp directory /tmp/3.hadoop.20180917.214328.075221...\n"
     ]
    }
   ],
   "source": [
    "!python3 mr-jobs/3.1_top_n_value.py \\\n",
    "-r hadoop hdfs:///user/hadoop/job-data/ \\\n",
    "    --output-dir mr-output/ --top_n 10"
   ]
  },
  {
   "cell_type": "markdown",
   "metadata": {},
   "source": [
    "### 3.2 Top N Records\n",
    "\n",
    "With the top N Salaries being calculated in file `mr-output/part-00000`, now we want to find out which jobs offer those salaries. \n",
    "\n",
    "Since the top N values are considered small enough to fit into each node, it is preferable to distribute the file into those node where the mapper jobs run, rather than load data in the job configuration. This mechanism is called `Distributed Cache`. We can do it via `MRJob.add_file_arg()` method."
   ]
  },
  {
   "cell_type": "markdown",
   "metadata": {},
   "source": [
    "**Example**: Find all jobs who offer salaries from the top N salaries list. \n",
    "\n",
    "\n",
    "- *Data flow*:\n",
    "\n",
    "  Input:`record` $\\rightarrow$ mapper:`<_, (maxValue, minValue)>` $\\rightarrow$ reducer:`<_, top_n[(maxValue, minValue)]>` $\\rightarrow$ Output:`top_n[(maxValue, minValue)]`\n",
    "  \n",
    "- *Features and highlights*:\n",
    "  \n",
    "  - ignore key field in `mapper` so only one reducer will be involved  \n",
    "  - `MRJob.reducer_init()` initializes top N sorted list\n",
    "  - `MRJob.reducer()` inserts record into top N sorted list, alway truncate list to a length of N\n",
    "  - `MRJob.reducer_final()` emits record from top N sorted list\n",
    "  "
   ]
  },
  {
   "cell_type": "code",
   "execution_count": null,
   "metadata": {},
   "outputs": [],
   "source": [
    "%%file mr-jobs/3.2_top_n_job.py\n",
    "from mrjob.job import MRJob\n",
    "from mrjob.protocol import JSONValueProtocol\n",
    "\n",
    "import os\n",
    "import json\n",
    "\n",
    "class MRTopNJob(MRJob):\n",
    "    \n",
    "    INPUT_PROTOCOL = JSONValueProtocol\n",
    "    OUTPUT_PROTOCOL = JSONValueProtocol\n",
    "        \n",
    "    def configure_args(self):\n",
    "        super().configure_args()\n",
    "        self.add_file_arg('--cache')\n",
    "    \n",
    "    def mapper_init(self):\n",
    "        self.cache = list()\n",
    "        with open(self.options.cache, 'r') as f:\n",
    "            for line in f:\n",
    "                self.cache.append(tuple(json.loads(line)))\n",
    "        \n",
    "    def mapper(self, _, value):\n",
    "        try:\n",
    "            max_ = float(value['estimatedSalary']['value']['maxValue'])\n",
    "            min_ = float(value['estimatedSalary']['value']['minValue'])\n",
    "        except (KeyError, ValueError):\n",
    "            pass\n",
    "        else:\n",
    "            if (max_, min_) in self.cache:\n",
    "                yield _, value\n",
    "\n",
    "if __name__ == '__main__':\n",
    "    MRTopNJob.run()"
   ]
  },
  {
   "cell_type": "markdown",
   "metadata": {},
   "source": [
    "Test locally:"
   ]
  },
  {
   "cell_type": "code",
   "execution_count": null,
   "metadata": {},
   "outputs": [],
   "source": [
    "!python3 mr-jobs/3.2_top_n_job.py ../data/job-data/ --output-dir mr-output-jobs --cache mr-output/part-00000"
   ]
  },
  {
   "cell_type": "markdown",
   "metadata": {},
   "source": [
    "Run on your Hadoop cluster:"
   ]
  },
  {
   "cell_type": "code",
   "execution_count": null,
   "metadata": {},
   "outputs": [],
   "source": [
    "!hdfs dfs -rm -r hdfs:///user/hadoop/mr-output-jobs"
   ]
  },
  {
   "cell_type": "code",
   "execution_count": null,
   "metadata": {},
   "outputs": [],
   "source": [
    "!python3 mr-jobs/3.2_top_n_job.py \\\n",
    "-r hadoop hdfs:///user/hadoop/job-data/ \\\n",
    "    --output-dir mr-output-jobs \\\n",
    "    --cache hdfs:///user/hadoop/mr-output/part-00000"
   ]
  },
  {
   "cell_type": "markdown",
   "metadata": {},
   "source": [
    "## 4. Inverted Index"
   ]
  },
  {
   "cell_type": "code",
   "execution_count": null,
   "metadata": {},
   "outputs": [],
   "source": [
    "from collections import Counter\n",
    "\n",
    "\n",
    "class Solution:\n",
    "    def fourSum(self, nums, target):\n",
    "        \"\"\"\n",
    "        :type nums: List[int]\n",
    "        :type target: int\n",
    "        :rtype: List[List[int]]\n",
    "        \"\"\"\n",
    "        counter = Counter(nums)\n",
    "        keys = sorted(counter)\n",
    "        return self.kSum(nums=keys, counter=counter, target=target, k=4)\n",
    "        \n",
    "    def kSum(self, nums, counter, target, k):\n",
    "        if k == 0 and target == 0:\n",
    "            return [[]]\n",
    "        elif k == 1:\n",
    "            if target in counter:\n",
    "                return [[target]]\n",
    "            else:\n",
    "                return []\n",
    "        else:\n",
    "            results = list()\n",
    "            for i in range(len(nums)):\n",
    "                for j in range(1, min(k, counter[nums[i]])+1):\n",
    "                    res = self.kSum(nums[:i], counter, target-nums[i]*j, k-j)\n",
    "                    for r in res:\n",
    "                        r.extend([nums[i]]*j)\n",
    "                    results.extend(res)\n",
    "            return results"
   ]
  },
  {
   "cell_type": "code",
   "execution_count": null,
   "metadata": {},
   "outputs": [],
   "source": [
    "soln = Solution()\n",
    "\n",
    "nums = [0,0,0,0]\n",
    "target = 0\n",
    "\n",
    "soln.fourSum(nums=nums, target=target)\n",
    "\n"
   ]
  },
  {
   "cell_type": "code",
   "execution_count": null,
   "metadata": {},
   "outputs": [],
   "source": [
    "from collections import Counter\n",
    "\n",
    "\n",
    "\n",
    "sorted(Counter([1,1,1,2,2,3]))"
   ]
  },
  {
   "cell_type": "code",
   "execution_count": null,
   "metadata": {},
   "outputs": [],
   "source": []
  }
 ],
 "metadata": {
  "kernelspec": {
   "display_name": "Python 3",
   "language": "python",
   "name": "python3"
  },
  "language_info": {
   "codemirror_mode": {
    "name": "ipython",
    "version": 3
   },
   "file_extension": ".py",
   "mimetype": "text/x-python",
   "name": "python",
   "nbconvert_exporter": "python",
   "pygments_lexer": "ipython3",
   "version": "3.5.2"
  }
 },
 "nbformat": 4,
 "nbformat_minor": 2
}
