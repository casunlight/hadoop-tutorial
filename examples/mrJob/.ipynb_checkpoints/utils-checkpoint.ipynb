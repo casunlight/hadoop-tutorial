{
 "cells": [
  {
   "cell_type": "code",
   "execution_count": null,
   "metadata": {},
   "outputs": [],
   "source": [
    "import json\n",
    "import re\n",
    "\n",
    "pattern = re.compile(r'^http(s)*://\\w+.glassdoor.com/')\n",
    "\n",
    "def clean(doc):\n",
    "    cleaned = dict()\n",
    "    for key in doc:\n",
    "        if isinstance(doc[key], dict):\n",
    "            cleaned[key] = clean(doc[key])\n",
    "        elif isinstance(doc[key], str) and pattern.search(doc[key]):\n",
    "            continue\n",
    "        else:\n",
    "            cleaned[key] = doc[key]\n",
    "    return cleaned"
   ]
  },
  {
   "cell_type": "code",
   "execution_count": null,
   "metadata": {},
   "outputs": [],
   "source": [
    "# remove fields with links to glassdoor.com\n",
    "\n",
    "with open('../data/job-data-2018-09-08-00-00-37.txt', 'w', encoding='utf-8') as fw:\n",
    "    with open('../data/job-data-2018-09-08-00-00-37-0b05248a-ef10-4cb6-83cf-c3a3b35d5cdf.txt', 'r') as fr:\n",
    "        for line in fr:\n",
    "            data = clean(json.loads(line))\n",
    "            fw.write(json.dumps(data))\n",
    "            fw.write('\\n')"
   ]
  }
 ],
 "metadata": {
  "kernelspec": {
   "display_name": "Python 3",
   "language": "python",
   "name": "python3"
  },
  "language_info": {
   "codemirror_mode": {
    "name": "ipython",
    "version": 3
   },
   "file_extension": ".py",
   "mimetype": "text/x-python",
   "name": "python",
   "nbconvert_exporter": "python",
   "pygments_lexer": "ipython3",
   "version": "3.5.2"
  }
 },
 "nbformat": 4,
 "nbformat_minor": 2
}
